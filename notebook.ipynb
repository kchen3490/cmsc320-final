{
 "cells": [
  {
   "cell_type": "markdown",
   "metadata": {},
   "source": [
    "# Heart Attack Study\n",
    "By Kai C, Nathaniel G, Josiah L, Joseph T"
   ]
  },
  {
   "cell_type": "markdown",
   "metadata": {},
   "source": [
    "## Data Preprocessing\n",
    "\n",
    "Since the dataset file is too large, we will download the csv file (https://www.kaggle.com/datasets/ankushpanday2/heart-attack-prediction-in-united-states) and keep it in the downloads folder.\n",
    "\n",
    "We will then import pandas and read the csv file and convert it into a dataframe."
   ]
  },
  {
   "cell_type": "markdown",
   "metadata": {},
   "source": [
    "### Import Libraries:"
   ]
  },
  {
   "cell_type": "code",
   "execution_count": 98,
   "metadata": {},
   "outputs": [],
   "source": [
    "import pandas as pd\n",
    "import numpy as np\n",
    "import matplotlib.pyplot as plt\n",
    "import seaborn as sns\n",
    "import scipy\n",
    "import scipy.stats as st"
   ]
  },
  {
   "cell_type": "markdown",
   "metadata": {},
   "source": [
    "### Read CSV file:"
   ]
  },
  {
   "cell_type": "code",
   "execution_count": 99,
   "metadata": {},
   "outputs": [],
   "source": [
    "heart_attack_df = pd.read_csv('~/Downloads/heart_attack_dataset.csv')"
   ]
  },
  {
   "cell_type": "markdown",
   "metadata": {},
   "source": [
    "### Remove Rows with NULL values:"
   ]
  },
  {
   "cell_type": "code",
   "execution_count": 100,
   "metadata": {},
   "outputs": [
    {
     "name": "stdout",
     "output_type": "stream",
     "text": [
      "Rows: 372974\n"
     ]
    }
   ],
   "source": [
    "heart_attack_df = heart_attack_df.dropna()\n",
    "\n",
    "print(\"Rows: \" + str(len(heart_attack_df.index)))\n"
   ]
  },
  {
   "cell_type": "markdown",
   "metadata": {},
   "source": [
    "### Parsing:\n",
    "\n",
    "Reassigned the value 1 to True and value 0 to False for the Smoker, Diabetes, Hypertension, FamilyHistory, PreviousHeartAttack, and StrokeHistory columns."
   ]
  },
  {
   "cell_type": "code",
   "execution_count": 101,
   "metadata": {},
   "outputs": [
    {
     "data": {
      "text/html": [
       "<div>\n",
       "<style scoped>\n",
       "    .dataframe tbody tr th:only-of-type {\n",
       "        vertical-align: middle;\n",
       "    }\n",
       "\n",
       "    .dataframe tbody tr th {\n",
       "        vertical-align: top;\n",
       "    }\n",
       "\n",
       "    .dataframe thead th {\n",
       "        text-align: right;\n",
       "    }\n",
       "</style>\n",
       "<table border=\"1\" class=\"dataframe\">\n",
       "  <thead>\n",
       "    <tr style=\"text-align: right;\">\n",
       "      <th></th>\n",
       "      <th>Age</th>\n",
       "      <th>Gender</th>\n",
       "      <th>Cholesterol</th>\n",
       "      <th>BloodPressure</th>\n",
       "      <th>HeartRate</th>\n",
       "      <th>BMI</th>\n",
       "      <th>Smoker</th>\n",
       "      <th>Diabetes</th>\n",
       "      <th>Hypertension</th>\n",
       "      <th>FamilyHistory</th>\n",
       "      <th>...</th>\n",
       "      <th>ExerciseInducedAngina</th>\n",
       "      <th>Slope</th>\n",
       "      <th>NumberOfMajorVessels</th>\n",
       "      <th>Thalassemia</th>\n",
       "      <th>PreviousHeartAttack</th>\n",
       "      <th>StrokeHistory</th>\n",
       "      <th>Residence</th>\n",
       "      <th>EmploymentStatus</th>\n",
       "      <th>MaritalStatus</th>\n",
       "      <th>Outcome</th>\n",
       "    </tr>\n",
       "  </thead>\n",
       "  <tbody>\n",
       "    <tr>\n",
       "      <th>0</th>\n",
       "      <td>31</td>\n",
       "      <td>Male</td>\n",
       "      <td>194</td>\n",
       "      <td>162</td>\n",
       "      <td>71</td>\n",
       "      <td>22.9</td>\n",
       "      <td>False</td>\n",
       "      <td>True</td>\n",
       "      <td>False</td>\n",
       "      <td>False</td>\n",
       "      <td>...</td>\n",
       "      <td>Yes</td>\n",
       "      <td>Downsloping</td>\n",
       "      <td>1</td>\n",
       "      <td>Normal</td>\n",
       "      <td>False</td>\n",
       "      <td>False</td>\n",
       "      <td>Suburban</td>\n",
       "      <td>Retired</td>\n",
       "      <td>Single</td>\n",
       "      <td>No Heart Attack</td>\n",
       "    </tr>\n",
       "    <tr>\n",
       "      <th>1</th>\n",
       "      <td>69</td>\n",
       "      <td>Male</td>\n",
       "      <td>208</td>\n",
       "      <td>148</td>\n",
       "      <td>93</td>\n",
       "      <td>33.9</td>\n",
       "      <td>True</td>\n",
       "      <td>True</td>\n",
       "      <td>False</td>\n",
       "      <td>False</td>\n",
       "      <td>...</td>\n",
       "      <td>Yes</td>\n",
       "      <td>Upsloping</td>\n",
       "      <td>2</td>\n",
       "      <td>Normal</td>\n",
       "      <td>False</td>\n",
       "      <td>False</td>\n",
       "      <td>Suburban</td>\n",
       "      <td>Unemployed</td>\n",
       "      <td>Married</td>\n",
       "      <td>No Heart Attack</td>\n",
       "    </tr>\n",
       "    <tr>\n",
       "      <th>2</th>\n",
       "      <td>34</td>\n",
       "      <td>Female</td>\n",
       "      <td>132</td>\n",
       "      <td>161</td>\n",
       "      <td>94</td>\n",
       "      <td>34.0</td>\n",
       "      <td>False</td>\n",
       "      <td>False</td>\n",
       "      <td>True</td>\n",
       "      <td>True</td>\n",
       "      <td>...</td>\n",
       "      <td>Yes</td>\n",
       "      <td>Upsloping</td>\n",
       "      <td>0</td>\n",
       "      <td>Normal</td>\n",
       "      <td>True</td>\n",
       "      <td>False</td>\n",
       "      <td>Rural</td>\n",
       "      <td>Retired</td>\n",
       "      <td>Single</td>\n",
       "      <td>Heart Attack</td>\n",
       "    </tr>\n",
       "    <tr>\n",
       "      <th>3</th>\n",
       "      <td>53</td>\n",
       "      <td>Male</td>\n",
       "      <td>268</td>\n",
       "      <td>134</td>\n",
       "      <td>91</td>\n",
       "      <td>35.0</td>\n",
       "      <td>False</td>\n",
       "      <td>True</td>\n",
       "      <td>True</td>\n",
       "      <td>False</td>\n",
       "      <td>...</td>\n",
       "      <td>Yes</td>\n",
       "      <td>Flat</td>\n",
       "      <td>0</td>\n",
       "      <td>Reversible defect</td>\n",
       "      <td>True</td>\n",
       "      <td>False</td>\n",
       "      <td>Suburban</td>\n",
       "      <td>Retired</td>\n",
       "      <td>Widowed</td>\n",
       "      <td>No Heart Attack</td>\n",
       "    </tr>\n",
       "    <tr>\n",
       "      <th>4</th>\n",
       "      <td>57</td>\n",
       "      <td>Female</td>\n",
       "      <td>203</td>\n",
       "      <td>140</td>\n",
       "      <td>75</td>\n",
       "      <td>30.1</td>\n",
       "      <td>False</td>\n",
       "      <td>True</td>\n",
       "      <td>False</td>\n",
       "      <td>False</td>\n",
       "      <td>...</td>\n",
       "      <td>Yes</td>\n",
       "      <td>Flat</td>\n",
       "      <td>0</td>\n",
       "      <td>Fixed defect</td>\n",
       "      <td>True</td>\n",
       "      <td>False</td>\n",
       "      <td>Rural</td>\n",
       "      <td>Retired</td>\n",
       "      <td>Married</td>\n",
       "      <td>Heart Attack</td>\n",
       "    </tr>\n",
       "  </tbody>\n",
       "</table>\n",
       "<p>5 rows × 32 columns</p>\n",
       "</div>"
      ],
      "text/plain": [
       "   Age  Gender  Cholesterol  BloodPressure  HeartRate   BMI  Smoker  Diabetes  \\\n",
       "0   31    Male          194            162         71  22.9   False      True   \n",
       "1   69    Male          208            148         93  33.9    True      True   \n",
       "2   34  Female          132            161         94  34.0   False     False   \n",
       "3   53    Male          268            134         91  35.0   False      True   \n",
       "4   57  Female          203            140         75  30.1   False      True   \n",
       "\n",
       "   Hypertension  FamilyHistory  ...  ExerciseInducedAngina        Slope  \\\n",
       "0         False          False  ...                    Yes  Downsloping   \n",
       "1         False          False  ...                    Yes    Upsloping   \n",
       "2          True           True  ...                    Yes    Upsloping   \n",
       "3          True          False  ...                    Yes         Flat   \n",
       "4         False          False  ...                    Yes         Flat   \n",
       "\n",
       "  NumberOfMajorVessels        Thalassemia PreviousHeartAttack  StrokeHistory  \\\n",
       "0                    1             Normal               False          False   \n",
       "1                    2             Normal               False          False   \n",
       "2                    0             Normal                True          False   \n",
       "3                    0  Reversible defect                True          False   \n",
       "4                    0       Fixed defect                True          False   \n",
       "\n",
       "  Residence EmploymentStatus MaritalStatus          Outcome  \n",
       "0  Suburban          Retired        Single  No Heart Attack  \n",
       "1  Suburban       Unemployed       Married  No Heart Attack  \n",
       "2     Rural          Retired        Single     Heart Attack  \n",
       "3  Suburban          Retired       Widowed  No Heart Attack  \n",
       "4     Rural          Retired       Married     Heart Attack  \n",
       "\n",
       "[5 rows x 32 columns]"
      ]
     },
     "execution_count": 101,
     "metadata": {},
     "output_type": "execute_result"
    }
   ],
   "source": [
    "heart_attack_df['Smoker'] = heart_attack_df['Smoker'].apply(lambda value : True if value == 1 else False)\n",
    "heart_attack_df['Diabetes'] = heart_attack_df['Diabetes'].apply(lambda value : True if value == 1 else False)\n",
    "heart_attack_df['Hypertension'] = heart_attack_df['Hypertension'].apply(lambda value : True if value == 1 else False)\n",
    "heart_attack_df['FamilyHistory'] = heart_attack_df['FamilyHistory'].apply(lambda value : True if value == 1 else False)\n",
    "heart_attack_df['PreviousHeartAttack'] = heart_attack_df['PreviousHeartAttack'].apply(lambda value : True if value == 1 else False)\n",
    "heart_attack_df['StrokeHistory'] = heart_attack_df['StrokeHistory'].apply(lambda value : True if value == 1 else False)\n",
    "\n",
    "heart_attack_df.head()"
   ]
  },
  {
   "cell_type": "markdown",
   "metadata": {},
   "source": [
    "## Conclusion 1\n",
    "By Joseph"
   ]
  },
  {
   "cell_type": "markdown",
   "metadata": {},
   "source": [
    "I will be doing a chi sqare test comparing ethnicity to outcome. my null hypothesis is that ethnicity does not affect outcome and my alternaive hypothesis is that ethnicity does affect outcome. I will reject with aplha of 0.05.\n",
    "\n",
    "But first, i will make a contingency table"
   ]
  },
  {
   "cell_type": "code",
   "execution_count": 102,
   "metadata": {},
   "outputs": [
    {
     "name": "stdout",
     "output_type": "stream",
     "text": [
      "(array(['Asian', 'Black', 'Hispanic', 'Other', 'White'], dtype=object), array(['Heart Attack', 'No Heart Attack'], dtype=object))\n",
      "[[37511 37431]\n",
      " [37140 37392]\n",
      " [37324 37026]\n",
      " [37015 37166]\n",
      " [37326 37643]]\n"
     ]
    }
   ],
   "source": [
    "elmt, cnt = st.contingency.crosstab(heart_attack_df['Ethnicity'], heart_attack_df['Outcome'])\n",
    "print(elmt)\n",
    "print(cnt)"
   ]
  },
  {
   "cell_type": "markdown",
   "metadata": {},
   "source": [
    "as well as plot its results."
   ]
  },
  {
   "cell_type": "code",
   "execution_count": 103,
   "metadata": {},
   "outputs": [
    {
     "data": {
      "image/png": "[encoded data removed]",
      "text/plain": [
       "<Figure size 800x600 with 2 Axes>"
      ]
     },
     "metadata": {},
     "output_type": "display_data"
    }
   ],
   "source": [
    "plt.figure(figsize=(8, 6))\n",
    "sns.heatmap(cnt, annot=True, fmt=\"d\", cmap=\"coolwarm\", vmin=0.0, vmax=40000.0)\n",
    "plt.title(\"Heatmap of contingency table data on ethnicity and heart attack outcome\")\n",
    "plt.xticks([i+0.5 for i in range(cnt.shape[1])], ['HEART ATTACK', 'no heart attack'])\n",
    "plt.yticks([i+0.5 for i in range(cnt.shape[0])], elmt[0])\n",
    "plt.show()"
   ]
  },
  {
   "cell_type": "markdown",
   "metadata": {},
   "source": [
    "seems quite even..."
   ]
  },
  {
   "cell_type": "code",
   "execution_count": 104,
   "metadata": {},
   "outputs": [
    {
     "data": {
      "text/plain": [
       "np.float64(0.48306343081124736)"
      ]
     },
     "execution_count": 104,
     "metadata": {},
     "output_type": "execute_result"
    }
   ],
   "source": [
    "\n",
    "res = st.chi2_contingency(cnt, correction=False)\n",
    "res.pvalue"
   ]
  },
  {
   "cell_type": "markdown",
   "metadata": {},
   "source": [
    "the chi square test gave a p value of 0.48 which is greater than the alpha of 0.05 so we fail to reject the null hypothesis."
   ]
  },
  {
   "cell_type": "markdown",
   "metadata": {},
   "source": [
    "## Conclusion 2\n",
    "By Josiah"
   ]
  },
  {
   "cell_type": "markdown",
   "metadata": {},
   "source": [
    "I will write a two sided and two sample T test for my hypothesis test based on the independent groups of blood presssures of people that had a previous heart attack and blood pressures of people that did not have a previous heart attack. The alpha value will be 0.05.\n",
    "\n",
    "\n",
    "\n",
    "- H0: There is no difference between the mean blood pressures of people that had a previous heart attack and the mean blood pressures of people that didn't have a previous heart attack.\n",
    "- HA: There is a difference between the mean blood pressures of people that had a previous heart attack and the mean blood pressures of people that didn't have a previous heart attack."
   ]
  },
  {
   "cell_type": "markdown",
   "metadata": {},
   "source": [
    "If the ratio between the groups are less than 4:1 then we can consider the given groups to have equal variance."
   ]
  },
  {
   "cell_type": "code",
   "execution_count": 105,
   "metadata": {},
   "outputs": [
    {
     "name": "stdout",
     "output_type": "stream",
     "text": [
      "Previous Heart Attack Variance: 672.9307263333194\n",
      "No Previous Heart Attack Variance: 677.4239673804153\n"
     ]
    }
   ],
   "source": [
    "previous_heart_attack = heart_attack_df[heart_attack_df['PreviousHeartAttack'] == True]['BloodPressure']\n",
    "no_previous_heart_attack = heart_attack_df[heart_attack_df['PreviousHeartAttack'] == False]['BloodPressure']\n",
    "\n",
    "print(\"Previous Heart Attack Variance: \" + str(np.var(previous_heart_attack)))\n",
    "print(\"No Previous Heart Attack Variance: \" + str(np.var(no_previous_heart_attack)))"
   ]
  },
  {
   "cell_type": "markdown",
   "metadata": {},
   "source": [
    "The ratio 677.424:672.931 is less than the 4:1 ratio which allows us to assume a same variance."
   ]
  },
  {
   "cell_type": "code",
   "execution_count": 106,
   "metadata": {},
   "outputs": [
    {
     "name": "stdout",
     "output_type": "stream",
     "text": [
      "P Value: 0.21653200354387594\n"
     ]
    }
   ],
   "source": [
    "# Two sided and two sample T test\n",
    "stat, p_value = scipy.stats.ttest_ind(a=previous_heart_attack, b=no_previous_heart_attack, equal_var=True)\n",
    "\n",
    "print(\"P Value: \" + str(p_value))"
   ]
  },
  {
   "cell_type": "markdown",
   "metadata": {},
   "source": [
    "The p-value of 0.217 > alpha value of 0.05, so we fail to reject the null hypothesis that there is no difference between the mean blood pressures of people that had a previous heart attack and the mean blood pressures of people that didn't have a previous heart attack."
   ]
  },
  {
   "cell_type": "code",
   "execution_count": 107,
   "metadata": {},
   "outputs": [
    {
     "data": {
      "text/plain": [
       "Text(0, 0.5, 'Blood Pressure (mmHg)')"
      ]
     },
     "execution_count": 107,
     "metadata": {},
     "output_type": "execute_result"
    },
    {
     "data": {
      "image/png": "[encoded data removed]",
      "text/plain": [
       "<Figure size 640x480 with 1 Axes>"
      ]
     },
     "metadata": {},
     "output_type": "display_data"
    }
   ],
   "source": [
    "plt.boxplot([previous_heart_attack, no_previous_heart_attack], tick_labels=[\"Previous Heart Attack\", \"No Previous Heart Attack\"], showmeans=True)\n",
    "plt.title('Previous Heart Attack and No Previous Heart Attack Blood Pressure')\n",
    "plt.ylabel('Blood Pressure (mmHg)')"
   ]
  },
  {
   "cell_type": "markdown",
   "metadata": {},
   "source": [
    "This plots boxplots for the two groups. Note that the green triangles represent the mean and the red line represents the median."
   ]
  },
  {
   "cell_type": "markdown",
   "metadata": {},
   "source": [
    "## Conclusion 3\n",
    "By Nathan"
   ]
  },
  {
   "cell_type": "markdown",
   "metadata": {},
   "source": [
    "## Conclusion 4 (extra)\n",
    "By Kai"
   ]
  },
  {
   "cell_type": "markdown",
   "metadata": {},
   "source": [
    "I will write a new hypothesis test based on four categorical variables, thus, I will be using ANOVA tests.\n",
    "\n",
    "The following is a hypothesis test for whether the marital status has an effect on the outcome of a heart attack. (Assume $\\alpha=0.05$).\n",
    "\n",
    "- H0: The marital status does not have an effect on the outcome of whether one has a heart attack (i.e., they're independent).\n",
    "\n",
    "- HA: The martial status does have an effect on the outcome of whether one has a heart attack."
   ]
  },
  {
   "cell_type": "markdown",
   "metadata": {},
   "source": [
    "I will first split the data into 4 different dataframes based on marital status."
   ]
  },
  {
   "cell_type": "code",
   "execution_count": 108,
   "metadata": {},
   "outputs": [
    {
     "data": {
      "text/plain": [
       "[Outcome\n",
       " No Heart Attack    0.500347\n",
       " Heart Attack       0.499653\n",
       " Name: proportion, dtype: float64,\n",
       " Outcome\n",
       " Heart Attack       0.500894\n",
       " No Heart Attack    0.499106\n",
       " Name: proportion, dtype: float64,\n",
       " Outcome\n",
       " No Heart Attack    0.501075\n",
       " Heart Attack       0.498925\n",
       " Name: proportion, dtype: float64,\n",
       " Outcome\n",
       " No Heart Attack    0.5013\n",
       " Heart Attack       0.4987\n",
       " Name: proportion, dtype: float64]"
      ]
     },
     "metadata": {},
     "output_type": "display_data"
    }
   ],
   "source": [
    "# to tell me what the categorical variables were\n",
    "# heart_attack_df['MaritalStatus'].unique()\n",
    "\n",
    "single = heart_attack_df['MaritalStatus'] == 'Single'\n",
    "married = heart_attack_df['MaritalStatus'] == 'Married'\n",
    "widowed = heart_attack_df['MaritalStatus'] == 'Widowed'\n",
    "divorced = heart_attack_df['MaritalStatus'] == 'Divorced'\n",
    "\n",
    "# store the proportions of 'No Heart Attack' and 'Heart Attack'\n",
    "single_proportion = heart_attack_df[single]['Outcome'].value_counts(normalize=True)\n",
    "married_proportion = heart_attack_df[married]['Outcome'].value_counts(normalize=True)\n",
    "widowed_proportion = heart_attack_df[widowed]['Outcome'].value_counts(normalize=True)\n",
    "divorced_proportion = heart_attack_df[divorced]['Outcome'].value_counts(normalize=True)\n",
    "\n",
    "display([single_proportion, married_proportion, widowed_proportion, divorced_proportion])"
   ]
  },
  {
   "cell_type": "markdown",
   "metadata": {},
   "source": [
    "Next, I will use an ANOVA test called the one-way ANOVA test, which tests the null hypothesis that two or more groups have the same population proportion, and will have the test yield a p-value.\n",
    "\n",
    "This hypothesis test is one of the only ways to test multiple categorical variables."
   ]
  },
  {
   "cell_type": "code",
   "execution_count": 109,
   "metadata": {},
   "outputs": [
    {
     "data": {
      "text/plain": [
       "np.float64(0.1399070014962428)"
      ]
     },
     "execution_count": 109,
     "metadata": {},
     "output_type": "execute_result"
    }
   ],
   "source": [
    "# ANOVA test\n",
    "anova_test = scipy.stats.f_oneway(single, married, widowed, divorced)\n",
    "\n",
    "anova_test.pvalue"
   ]
  },
  {
   "cell_type": "markdown",
   "metadata": {},
   "source": [
    "I will create a bar chart to show the relationship between marital status and the outcome of whether one has a heart attack."
   ]
  },
  {
   "cell_type": "code",
   "execution_count": 110,
   "metadata": {},
   "outputs": [
    {
     "data": {
      "image/png": "[encoded data removed]",
      "text/plain": [
       "<Figure size 640x480 with 1 Axes>"
      ]
     },
     "metadata": {},
     "output_type": "display_data"
    }
   ],
   "source": [
    "x_var = np.array(['Single', 'Married', 'Widowed', 'Divorced'])\n",
    "y_var = np.array([single_proportion.iloc[1], married_proportion.iloc[1], widowed_proportion.iloc[1], divorced_proportion.iloc[1]])\n",
    "\n",
    "plt.bar(x_var, y_var)\n",
    "plt.title('Proportion of Outcome vs MartialStatus')\n",
    "plt.xlabel('Marital Status')\n",
    "plt.ylabel('Proportion of population that has heart attack')\n",
    "plt.show()"
   ]
  },
  {
   "cell_type": "markdown",
   "metadata": {},
   "source": [
    "Since the p-value = 0.14 > (alpha = 0.05), we fail to reject the null hypothesis."
   ]
  }
 ],
 "metadata": {
  "kernelspec": {
   "display_name": "Python 3",
   "language": "python",
   "name": "python3"
  },
  "language_info": {
   "codemirror_mode": {
    "name": "ipython",
    "version": 3
   },
   "file_extension": ".py",
   "mimetype": "text/x-python",
   "name": "python",
   "nbconvert_exporter": "python",
   "pygments_lexer": "ipython3",
   "version": "3.13.2"
  }
 },
 "nbformat": 4,
 "nbformat_minor": 2
}
